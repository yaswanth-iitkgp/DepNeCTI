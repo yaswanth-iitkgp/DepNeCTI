{
  "cells": [
    {
      "cell_type": "code",
      "execution_count": null,
      "metadata": {
        "colab": {
          "base_uri": "https://localhost:8080/"
        },
        "id": "MpOgCEnXGrF7",
        "outputId": "0cbd1621-59fa-41d4-a1b3-57c90005b95c"
      },
      "outputs": [
        {
          "name": "stdout",
          "output_type": "stream",
          "text": [
            "Looking in indexes: https://pypi.org/simple, https://us-python.pkg.dev/colab-wheels/public/simple/\n",
            "Processing /content/fastText\n",
            "  Preparing metadata (setup.py): started\n",
            "  Preparing metadata (setup.py): finished with status 'done'\n",
            "Collecting pybind11>=2.2 (from fasttext==0.9.2)\n",
            "  Using cached pybind11-2.10.4-py3-none-any.whl (222 kB)\n",
            "Requirement already satisfied: setuptools>=0.7.0 in /usr/local/lib/python3.10/dist-packages (from fasttext==0.9.2) (67.7.2)\n",
            "Requirement already satisfied: numpy in /usr/local/lib/python3.10/dist-packages (from fasttext==0.9.2) (1.22.4)\n",
            "Building wheels for collected packages: fasttext\n",
            "  Building wheel for fasttext (setup.py): started\n",
            "  Building wheel for fasttext (setup.py): finished with status 'done'\n",
            "  Created wheel for fasttext: filename=fasttext-0.9.2-cp310-cp310-linux_x86_64.whl size=4384288 sha256=4230ee089555112b6565a370ad4707f063d87fe914533d62fda17cc9c0657476\n",
            "  Stored in directory: /tmp/pip-ephem-wheel-cache-3qqq5_2x/wheels/8b/05/af/3cfae069d904597d44b309c956601b611bdf8967bcbe968903\n",
            "Successfully built fasttext\n",
            "Installing collected packages: pybind11, fasttext\n",
            "Successfully installed fasttext-0.9.2 pybind11-2.10.4\n",
            "running install\n",
            "running bdist_egg\n",
            "running egg_info\n",
            "writing python/fasttext_module/fasttext.egg-info/PKG-INFO\n",
            "writing dependency_links to python/fasttext_module/fasttext.egg-info/dependency_links.txt\n",
            "writing requirements to python/fasttext_module/fasttext.egg-info/requires.txt\n",
            "writing top-level names to python/fasttext_module/fasttext.egg-info/top_level.txt\n",
            "reading manifest file 'python/fasttext_module/fasttext.egg-info/SOURCES.txt'\n",
            "reading manifest template 'MANIFEST.in'\n",
            "adding license file 'LICENSE'\n",
            "writing manifest file 'python/fasttext_module/fasttext.egg-info/SOURCES.txt'\n",
            "installing library code to build/bdist.linux-x86_64/egg\n",
            "running install_lib\n",
            "running build_py\n",
            "running build_ext\n",
            "x86_64-linux-gnu-gcc -pthread -Wno-unused-result -Wsign-compare -DNDEBUG -g -fwrapv -O2 -Wall -g -fstack-protector-strong -Wformat -Werror=format-security -g -fwrapv -O2 -fPIC -I/usr/include/python3.10 -c /tmp/tmp6mim0m9f.cpp -o tmp/tmp6mim0m9f.o -std=c++11\n",
            "x86_64-linux-gnu-gcc -pthread -Wno-unused-result -Wsign-compare -DNDEBUG -g -fwrapv -O2 -Wall -g -fstack-protector-strong -Wformat -Werror=format-security -g -fwrapv -O2 -fPIC -I/usr/include/python3.10 -c /tmp/tmpm4yj0_i2.cpp -o tmp/tmpm4yj0_i2.o -fvisibility=hidden\n",
            "creating build/bdist.linux-x86_64/egg\n",
            "creating build/bdist.linux-x86_64/egg/fasttext\n",
            "copying build/lib.linux-x86_64-cpython-310/fasttext/FastText.py -> build/bdist.linux-x86_64/egg/fasttext\n",
            "creating build/bdist.linux-x86_64/egg/fasttext/util\n",
            "copying build/lib.linux-x86_64-cpython-310/fasttext/util/util.py -> build/bdist.linux-x86_64/egg/fasttext/util\n",
            "copying build/lib.linux-x86_64-cpython-310/fasttext/util/__init__.py -> build/bdist.linux-x86_64/egg/fasttext/util\n",
            "creating build/bdist.linux-x86_64/egg/fasttext/tests\n",
            "copying build/lib.linux-x86_64-cpython-310/fasttext/tests/test_configurations.py -> build/bdist.linux-x86_64/egg/fasttext/tests\n",
            "copying build/lib.linux-x86_64-cpython-310/fasttext/tests/test_script.py -> build/bdist.linux-x86_64/egg/fasttext/tests\n",
            "copying build/lib.linux-x86_64-cpython-310/fasttext/tests/__init__.py -> build/bdist.linux-x86_64/egg/fasttext/tests\n",
            "copying build/lib.linux-x86_64-cpython-310/fasttext/__init__.py -> build/bdist.linux-x86_64/egg/fasttext\n",
            "copying build/lib.linux-x86_64-cpython-310/fasttext_pybind.cpython-310-x86_64-linux-gnu.so -> build/bdist.linux-x86_64/egg\n",
            "byte-compiling build/bdist.linux-x86_64/egg/fasttext/FastText.py to FastText.cpython-310.pyc\n",
            "byte-compiling build/bdist.linux-x86_64/egg/fasttext/util/util.py to util.cpython-310.pyc\n",
            "byte-compiling build/bdist.linux-x86_64/egg/fasttext/util/__init__.py to __init__.cpython-310.pyc\n",
            "byte-compiling build/bdist.linux-x86_64/egg/fasttext/tests/test_configurations.py to test_configurations.cpython-310.pyc\n",
            "byte-compiling build/bdist.linux-x86_64/egg/fasttext/tests/test_script.py to test_script.cpython-310.pyc\n",
            "byte-compiling build/bdist.linux-x86_64/egg/fasttext/tests/__init__.py to __init__.cpython-310.pyc\n",
            "byte-compiling build/bdist.linux-x86_64/egg/fasttext/__init__.py to __init__.cpython-310.pyc\n",
            "creating stub loader for fasttext_pybind.cpython-310-x86_64-linux-gnu.so\n",
            "byte-compiling build/bdist.linux-x86_64/egg/fasttext_pybind.py to fasttext_pybind.cpython-310.pyc\n",
            "creating build/bdist.linux-x86_64/egg/EGG-INFO\n",
            "copying python/fasttext_module/fasttext.egg-info/PKG-INFO -> build/bdist.linux-x86_64/egg/EGG-INFO\n",
            "copying python/fasttext_module/fasttext.egg-info/SOURCES.txt -> build/bdist.linux-x86_64/egg/EGG-INFO\n",
            "copying python/fasttext_module/fasttext.egg-info/dependency_links.txt -> build/bdist.linux-x86_64/egg/EGG-INFO\n",
            "copying python/fasttext_module/fasttext.egg-info/not-zip-safe -> build/bdist.linux-x86_64/egg/EGG-INFO\n",
            "copying python/fasttext_module/fasttext.egg-info/requires.txt -> build/bdist.linux-x86_64/egg/EGG-INFO\n",
            "copying python/fasttext_module/fasttext.egg-info/top_level.txt -> build/bdist.linux-x86_64/egg/EGG-INFO\n",
            "writing build/bdist.linux-x86_64/egg/EGG-INFO/native_libs.txt\n",
            "creating dist\n",
            "creating 'dist/fasttext-0.9.2-py3.10-linux-x86_64.egg' and adding 'build/bdist.linux-x86_64/egg' to it\n",
            "removing 'build/bdist.linux-x86_64/egg' (and everything under it)\n",
            "Processing fasttext-0.9.2-py3.10-linux-x86_64.egg\n",
            "creating /usr/local/lib/python3.10/dist-packages/fasttext-0.9.2-py3.10-linux-x86_64.egg\n",
            "Extracting fasttext-0.9.2-py3.10-linux-x86_64.egg to /usr/local/lib/python3.10/dist-packages\n",
            "Adding fasttext 0.9.2 to easy-install.pth file\n",
            "\n",
            "Installed /usr/local/lib/python3.10/dist-packages/fasttext-0.9.2-py3.10-linux-x86_64.egg\n",
            "Processing dependencies for fasttext==0.9.2\n",
            "Searching for numpy==1.22.4\n",
            "Best match: numpy 1.22.4\n",
            "Adding numpy 1.22.4 to easy-install.pth file\n",
            "Installing f2py script to /usr/local/bin\n",
            "Installing f2py3 script to /usr/local/bin\n",
            "Installing f2py3.10 script to /usr/local/bin\n",
            "\n",
            "Using /usr/local/lib/python3.10/dist-packages\n",
            "Searching for setuptools==67.7.2\n",
            "Best match: setuptools 67.7.2\n",
            "Adding setuptools 67.7.2 to easy-install.pth file\n",
            "\n",
            "Using /usr/local/lib/python3.10/dist-packages\n",
            "Searching for pybind11==2.10.4\n",
            "Best match: pybind11 2.10.4\n",
            "Adding pybind11 2.10.4 to easy-install.pth file\n",
            "Installing pybind11-config script to /usr/local/bin\n",
            "\n",
            "Using /usr/local/lib/python3.10/dist-packages\n",
            "Finished processing dependencies for fasttext==0.9.2\n"
          ]
        },
        {
          "name": "stderr",
          "output_type": "stream",
          "text": [
            "Cloning into 'fastText'...\n",
            "/usr/local/lib/python3.10/dist-packages/setuptools/dist.py:755: SetuptoolsDeprecationWarning: Invalid dash-separated options\n",
            "!!\n",
            "\n",
            "        ********************************************************************************\n",
            "        Usage of dash-separated 'description-file' will not be supported in future\n",
            "        versions. Please use the underscore name 'description_file' instead.\n",
            "\n",
            "        By 2023-Sep-26, you need to update your project and remove deprecated calls\n",
            "        or your builds will no longer be supported.\n",
            "\n",
            "        See https://setuptools.pypa.io/en/latest/userguide/declarative_config.html for details.\n",
            "        ********************************************************************************\n",
            "\n",
            "!!\n",
            "  opt = self.warn_dash_deprecation(opt, section)\n",
            "/usr/local/lib/python3.10/dist-packages/setuptools/_distutils/cmd.py:66: SetuptoolsDeprecationWarning: setup.py install is deprecated.\n",
            "!!\n",
            "\n",
            "        ********************************************************************************\n",
            "        Please avoid running ``setup.py`` directly.\n",
            "        Instead, use pypa/build, pypa/installer, pypa/build or\n",
            "        other standards-based tools.\n",
            "\n",
            "        See https://blog.ganssle.io/articles/2021/10/setup-py-deprecated.html for details.\n",
            "        ********************************************************************************\n",
            "\n",
            "!!\n",
            "  self.initialize_options()\n",
            "/usr/local/lib/python3.10/dist-packages/setuptools/_distutils/cmd.py:66: EasyInstallDeprecationWarning: easy_install command is deprecated.\n",
            "!!\n",
            "\n",
            "        ********************************************************************************\n",
            "        Please avoid running ``setup.py`` and ``easy_install``.\n",
            "        Instead, use pypa/build, pypa/installer, pypa/build or\n",
            "        other standards-based tools.\n",
            "\n",
            "        See https://github.com/pypa/setuptools/issues/917 for details.\n",
            "        ********************************************************************************\n",
            "\n",
            "!!\n",
            "  self.initialize_options()\n",
            "warning: no files found matching 'PATENTS'\n"
          ]
        }
      ],
      "source": [
        "%%bash\n",
        "git clone https://github.com/facebookresearch/fastText.git\n",
        "cd fastText\n",
        "sudo pip install .\n",
        "# or :\n",
        "sudo python setup.py install"
      ]
    },
    {
      "cell_type": "code",
      "execution_count": null,
      "metadata": {
        "colab": {
          "base_uri": "https://localhost:8080/"
        },
        "id": "SvfSFgDeCH2V",
        "outputId": "b9c9c345-4901-458f-8cca-b55ca38d729c"
      },
      "outputs": [
        {
          "name": "stdout",
          "output_type": "stream",
          "text": [
            "Mounted at /content/drive\n"
          ]
        }
      ],
      "source": [
        "from google.colab import drive\n",
        "drive.mount('/content/drive')"
      ]
    },
    {
      "cell_type": "code",
      "execution_count": null,
      "metadata": {
        "colab": {
          "base_uri": "https://localhost:8080/"
        },
        "id": "5qA7Kk7v0syq",
        "outputId": "2b0f6a3d-8a0f-40d6-d1c9-4abe3aab1a31"
      },
      "outputs": [
        {
          "name": "stdout",
          "output_type": "stream",
          "text": [
            "--2022-05-06 05:23:47--  https://iitk-my.sharepoint.com/personal/jivnesh_iitk_ac_in/_layouts/15/onedrive.aspx?id=%2Fpersonal%2Fjivnesh%5Fiitk%5Fac%5Fin%2FDocuments%2FDocuments%2FfastText%2Fresult%2Fcc%2Esan%2E300%2Ebin\n",
            "Resolving iitk-my.sharepoint.com (iitk-my.sharepoint.com)... 13.107.136.9, 13.107.138.9\n",
            "Connecting to iitk-my.sharepoint.com (iitk-my.sharepoint.com)|13.107.136.9|:443... connected.\n",
            "HTTP request sent, awaiting response... 403 Forbidden\n",
            "2022-05-06 05:23:48 ERROR 403: Forbidden.\n",
            "\n"
          ]
        }
      ],
      "source": []
    },
    {
      "cell_type": "markdown",
      "metadata": {
        "id": "7XaP9rimN0bj"
      },
      "source": [
        "### Load model\n",
        "Install FastText using this [link](https://fasttext.cc/docs/en/support.html) <br>\n",
        "Follow the instruction given in section `Building fasttext python module`"
      ]
    },
    {
      "cell_type": "code",
      "execution_count": null,
      "metadata": {
        "id": "AIMtpQ14N0bl"
      },
      "outputs": [],
      "source": [
        "# Load the library\n",
        "# ModuleNotFoundError: No module named 'fasttext'\n",
        "import json\n",
        "import fasttext\n",
        "# Load the saved model which is stored in bin format\n",
        "model = fasttext.load_model(\"./drive/MyDrive/EMNLP23/cc.sanskrit.300.bin\")"
      ]
    },
    {
      "cell_type": "markdown",
      "metadata": {
        "id": "coEV_RHsBOHb"
      },
      "source": [
        "## How to generate vector of any word?"
      ]
    },
    {
      "cell_type": "code",
      "execution_count": null,
      "metadata": {
        "id": "7lQ_lOqFBNm5"
      },
      "outputs": [],
      "source": [
        "vector = model.get_word_vector('ram')"
      ]
    },
    {
      "cell_type": "code",
      "execution_count": null,
      "metadata": {
        "colab": {
          "base_uri": "https://localhost:8080/"
        },
        "id": "hZk90icTCig1",
        "outputId": "f26998be-1890-4496-ab7e-0b73128272d5"
      },
      "outputs": [
        {
          "data": {
            "text/plain": [
              "300"
            ]
          },
          "execution_count": 18,
          "metadata": {},
          "output_type": "execute_result"
        }
      ],
      "source": [
        "len(vector)"
      ]
    },
    {
      "cell_type": "code",
      "execution_count": null,
      "metadata": {
        "colab": {
          "base_uri": "https://localhost:8080/"
        },
        "id": "BDUx8SMx7U4r",
        "outputId": "f07f40d6-95aa-494b-b2f1-97de9b209945"
      },
      "outputs": [],
      "source": [
        "# For which words you need to generate representations and store them?\n",
        "# Make sure these words are in SLP1 scheme\n",
        "# words_list.json contains the list of all words in train and dev file\n",
        "\n",
        "with open('./drive/MyDrive/EMNLP23/words_list.json') as f:\n",
        "    lines = f.readlines()\n",
        "print(lines)\n",
        "data = []\n",
        "for word in lines:\n",
        "  data.append(word[:-1])\n",
        "print(data)"
      ]
    },
    {
      "cell_type": "markdown",
      "metadata": {
        "id": "A-4lXfdsN0b7"
      },
      "source": [
        "### Note:\n",
        "Generate representation and save in cc.sanskrit.300.new.vec file <br>\n",
        "Each line will have word and it's representation separated by space. For example, if representation size is 3 then file will look like this.<br>\n",
        "hello 0.1 0.4 0.2 <br>\n",
        "why 0.2 0.6 0.9"
      ]
    },
    {
      "cell_type": "code",
      "execution_count": null,
      "metadata": {
        "colab": {
          "base_uri": "https://localhost:8080/"
        },
        "id": "KQvT1PuPN0b8",
        "outputId": "e321d12a-5eaa-43af-ec00-cb126d3f6926"
      },
      "outputs": [
        {
          "name": "stdout",
          "output_type": "stream",
          "text": [
            "33179\n"
          ]
        }
      ],
      "source": [
        "count =0\n",
        "store = 300\n",
        "with open(\"./drive/MyDrive/EMNLP23/cc.sanskrit1.300.new.vec\", \"w\") as f:\n",
        "    f.write(str(len(data))+' '+str(300)+'\\n')\n",
        "    for word in data:\n",
        "        if word:\n",
        "            f.write(word + ' ')\n",
        "            for v in model.get_word_vector(word):\n",
        "                f.write(' '+str(v))\n",
        "            count = count + 1\n",
        "            if count != store:\n",
        "                f.write('\\n')\n",
        "        else:\n",
        "            print('Some issue!')\n",
        "print(count)"
      ]
    },
    {
      "cell_type": "code",
      "execution_count": null,
      "metadata": {
        "id": "mKNetp3X9Cjj"
      },
      "outputs": [],
      "source": [
        "import io\n",
        "\n",
        "input_file = './drive/MyDrive/EMNLP23/cc.sanskrit1.300.new.vec'\n",
        "output_file = './drive/MyDrive/EMNLP23/cc.NeCTIS.300.txt'\n",
        "\n",
        "with io.open(input_file, 'r', encoding='utf-8', newline='\\n', errors='ignore') as fin:\n",
        "    with io.open(output_file, 'w', encoding='utf-8') as fout:\n",
        "        # Skip the first line (header)\n",
        "        fin.readline()\n",
        "\n",
        "        # Process each line in the input file\n",
        "        for line in fin:\n",
        "            # Split the line into word and vector components\n",
        "            tokens = line.rstrip().split(' ')\n",
        "            word = tokens[0]\n",
        "            vector = ' '.join(tokens[1:])\n",
        "\n",
        "            # Write the word and vector to the output file\n",
        "            fout.write(f\"{word} {vector}\\n\")\n"
      ]
    },
    {
      "cell_type": "code",
      "execution_count": null,
      "metadata": {
        "id": "fdSg6RmZIJjV"
      },
      "outputs": [],
      "source": []
    }
  ],
  "metadata": {
    "colab": {
      "provenance": []
    },
    "kernelspec": {
      "display_name": "Python 3",
      "language": "python",
      "name": "python3"
    },
    "language_info": {
      "codemirror_mode": {
        "name": "ipython",
        "version": 3
      },
      "file_extension": ".py",
      "mimetype": "text/x-python",
      "name": "python",
      "nbconvert_exporter": "python",
      "pygments_lexer": "ipython3",
      "version": "3.7.4"
    }
  },
  "nbformat": 4,
  "nbformat_minor": 0
}
